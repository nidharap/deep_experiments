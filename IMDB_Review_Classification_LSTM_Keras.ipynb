{
 "cells": [
  {
   "cell_type": "code",
   "execution_count": 1,
   "metadata": {},
   "outputs": [
    {
     "name": "stderr",
     "output_type": "stream",
     "text": [
      "Using TensorFlow backend.\n"
     ]
    }
   ],
   "source": [
    "import numpy\n",
    "from keras.datasets import imdb\n",
    "from keras.models import Sequential\n",
    "from keras.layers import Dense\n",
    "from keras.layers import LSTM\n",
    "from keras.layers.embeddings import Embedding\n",
    "from keras.preprocessing import sequence\n",
    "# fix random seed for reproducibility\n",
    "numpy.random.seed(7)\n",
    "\n",
    "\n",
    "from numpy import array\n",
    "from numpy import asarray\n",
    "from numpy import zeros\n",
    "from keras.preprocessing.text import Tokenizer\n",
    "from keras.layers import Flatten\n",
    "\n",
    "\n",
    "import numpy as np\n",
    "import matplotlib.mlab as mlab\n",
    "import matplotlib.pyplot as plt"
   ]
  },
  {
   "cell_type": "code",
   "execution_count": 2,
   "metadata": {},
   "outputs": [],
   "source": [
    "%matplotlib inline "
   ]
  },
  {
   "cell_type": "markdown",
   "metadata": {},
   "source": [
    "#### Toy example for other scenarios where we have to deal with text"
   ]
  },
  {
   "cell_type": "code",
   "execution_count": 20,
   "metadata": {},
   "outputs": [
    {
     "name": "stdout",
     "output_type": "stream",
     "text": [
      "[[2, 3], [4, 1], [5, 6], [7, 1]]\n",
      "[[2 3 0 0]\n",
      " [4 1 0 0]\n",
      " [5 6 0 0]\n",
      " [7 1 0 0]]\n"
     ]
    }
   ],
   "source": [
    "# define documents\n",
    "docs = ['Well done!','Good work','Great effort',\n",
    "    'nice work',]\n",
    "# define class labels\n",
    "labels = array([1,1,1,1,1,0,0,0,0,0])\n",
    "# prepare tokenizer\n",
    "t = Tokenizer()\n",
    "t.fit_on_texts(docs)\n",
    "vocab_size = len(t.word_index) + 1\n",
    "# integer encode the documents\n",
    "encoded_docs = t.texts_to_sequences(docs)\n",
    "print(encoded_docs)\n",
    "max_length = 4\n",
    "padded_docs = sequence.pad_sequences(encoded_docs, maxlen=max_length, padding='post')\n",
    "print(padded_docs)"
   ]
  },
  {
   "cell_type": "markdown",
   "metadata": {},
   "source": [
    "### Now let us look at IMDB dataset which can be directly loaded through keras"
   ]
  },
  {
   "cell_type": "code",
   "execution_count": 3,
   "metadata": {},
   "outputs": [],
   "source": [
    "# load the dataset but only keep the top n words, zero the rest\n",
    "top_words = 10000\n",
    "(X_train, y_train), (X_test, y_test) = imdb.load_data(num_words=top_words)"
   ]
  },
  {
   "cell_type": "code",
   "execution_count": 4,
   "metadata": {},
   "outputs": [],
   "source": [
    "lengths = []\n",
    "for i in X_train:\n",
    "    lengths.append(len(i))"
   ]
  },
  {
   "cell_type": "code",
   "execution_count": 5,
   "metadata": {},
   "outputs": [
    {
     "data": {
      "text/plain": [
       "[218, 189, 141, 550, 147, 43, 123, 562, 233, 130]"
      ]
     },
     "execution_count": 5,
     "metadata": {},
     "output_type": "execute_result"
    }
   ],
   "source": [
    "lengths[0:10]"
   ]
  },
  {
   "cell_type": "code",
   "execution_count": 6,
   "metadata": {},
   "outputs": [
    {
     "name": "stderr",
     "output_type": "stream",
     "text": [
      "/Users/nikhildharap/anaconda3/lib/python3.6/site-packages/matplotlib/axes/_axes.py:6462: UserWarning: The 'normed' kwarg is deprecated, and has been replaced by the 'density' kwarg.\n",
      "  warnings.warn(\"The 'normed' kwarg is deprecated, and has been \"\n"
     ]
    },
    {
     "data": {
      "image/png": "[encoded data removed]",
      "text/plain": [
       "<Figure size 432x288 with 1 Axes>"
      ]
     },
     "metadata": {},
     "output_type": "display_data"
    }
   ],
   "source": [
    "fig, ax = plt.subplots()\n",
    "num_bins = 10\n",
    "# the histogram of the data\n",
    "n, bins, patches = ax.hist(lengths, num_bins, normed=1)"
   ]
  },
  {
   "cell_type": "markdown",
   "metadata": {},
   "source": [
    "An approximate cut off will be 500"
   ]
  },
  {
   "cell_type": "markdown",
   "metadata": {},
   "source": [
    "Truncate and pad input seq to make them same length\n",
    "\n",
    "The model will learn that that the zero values mean nothing "
   ]
  },
  {
   "cell_type": "code",
   "execution_count": 7,
   "metadata": {},
   "outputs": [],
   "source": [
    "max_review_length = 500\n",
    "X_train = sequence.pad_sequences(X_train, maxlen=max_review_length)\n",
    "X_test = sequence.pad_sequences(X_test, maxlen=max_review_length)"
   ]
  },
  {
   "cell_type": "code",
   "execution_count": 15,
   "metadata": {},
   "outputs": [
    {
     "data": {
      "text/plain": [
       "(25000, 500)"
      ]
     },
     "execution_count": 15,
     "metadata": {},
     "output_type": "execute_result"
    }
   ],
   "source": [
    "X_train.shape"
   ]
  },
  {
   "cell_type": "code",
   "execution_count": 10,
   "metadata": {},
   "outputs": [
    {
     "data": {
      "text/plain": [
       "array([1, 0, 0, 1, 0, 0, 1, 0, 1, 0])"
      ]
     },
     "execution_count": 10,
     "metadata": {},
     "output_type": "execute_result"
    }
   ],
   "source": [
    "#lets look at labels now\n",
    "y_train[0:10]"
   ]
  },
  {
   "cell_type": "code",
   "execution_count": 25,
   "metadata": {},
   "outputs": [
    {
     "name": "stdout",
     "output_type": "stream",
     "text": [
      "<PAD> <PAD> <PAD> <PAD> <PAD> <PAD> <PAD> <PAD> <PAD> <PAD> <PAD> <PAD> <PAD> <PAD> <PAD> <PAD> <PAD> <PAD> <PAD> <PAD> <PAD> <PAD> <PAD> <PAD> <PAD> <PAD> <PAD> <PAD> <PAD> <PAD> <PAD> <PAD> <PAD> <PAD> <PAD> <PAD> <PAD> <PAD> <PAD> <PAD> <PAD> <PAD> <PAD> <PAD> <PAD> <PAD> <PAD> <PAD> <PAD> <PAD> <PAD> <PAD> <PAD> <PAD> <PAD> <PAD> <PAD> <PAD> <PAD> <PAD> <PAD> <PAD> <PAD> <PAD> <PAD> <PAD> <PAD> <PAD> <PAD> <PAD> <PAD> <PAD> <PAD> <PAD> <PAD> <PAD> <PAD> <PAD> <PAD> <PAD> <PAD> <PAD> <PAD> <PAD> <PAD> <PAD> <PAD> <PAD> <PAD> <PAD> <PAD> <PAD> <PAD> <PAD> <PAD> <PAD> <PAD> <PAD> <PAD> <PAD> <PAD> <PAD> <PAD> <PAD> <PAD> <PAD> <PAD> <PAD> <PAD> <PAD> <PAD> <PAD> <PAD> <PAD> <PAD> <PAD> <PAD> <PAD> <PAD> <PAD> <PAD> <PAD> <PAD> <PAD> <PAD> <PAD> <PAD> <PAD> <PAD> <PAD> <PAD> <PAD> <PAD> <PAD> <PAD> <PAD> <PAD> <PAD> <PAD> <PAD> <PAD> <PAD> <PAD> <PAD> <PAD> <PAD> <PAD> <PAD> <PAD> <PAD> <PAD> <PAD> <PAD> <PAD> <PAD> <PAD> <PAD> <PAD> <PAD> <PAD> <PAD> <PAD> <PAD> <PAD> <PAD> <PAD> <PAD> <PAD> <PAD> <PAD> <PAD> <PAD> <PAD> <PAD> <PAD> <PAD> <PAD> <PAD> <PAD> <PAD> <PAD> <PAD> <PAD> <PAD> <PAD> <PAD> <PAD> <PAD> <PAD> <PAD> <PAD> <PAD> <PAD> <PAD> <PAD> <PAD> <PAD> <PAD> <PAD> <PAD> <PAD> <PAD> <PAD> <PAD> <PAD> <PAD> <PAD> <PAD> <PAD> <PAD> <PAD> <PAD> <PAD> <PAD> <PAD> <PAD> <PAD> <PAD> <PAD> <PAD> <PAD> <PAD> <PAD> <PAD> <PAD> <PAD> <PAD> <PAD> <PAD> <PAD> <PAD> <PAD> <PAD> <PAD> <PAD> <PAD> <PAD> <PAD> <PAD> <PAD> <PAD> <PAD> <PAD> <PAD> <PAD> <PAD> <PAD> <PAD> <PAD> <PAD> <PAD> <PAD> <PAD> <PAD> <PAD> <PAD> <PAD> <PAD> <PAD> <PAD> <PAD> <PAD> <PAD> <PAD> <PAD> <PAD> <PAD> <PAD> <PAD> <PAD> <PAD> <PAD> <PAD> <PAD> <PAD> <PAD> <PAD> <PAD> <PAD> <PAD> <PAD> <PAD> <START> this film was just brilliant casting location scenery story direction everyone's really suited the part they played and you could just imagine being there robert <UNK> is an amazing actor and now the same being director <UNK> father came from the same scottish island as myself so i loved the fact there was a real connection with this film the witty remarks throughout the film were great it was just brilliant so much that i bought the film as soon as it was released for <UNK> and would recommend it to everyone to watch and the fly fishing was amazing really cried at the end it was so sad and you know what they say if you cry at a film it must have been good and this definitely was also <UNK> to the two little boy's that played the <UNK> of norman and paul they were just brilliant children are often left out of the <UNK> list i think because the stars that play them all grown up are such a big profile for the whole film but these children are amazing and should be praised for what they have done don't you think the whole story was so lovely because it was true and was someone's life after all that was shared with us all\n"
     ]
    }
   ],
   "source": [
    "import keras\n",
    "INDEX_FROM=3   # word index offset\n",
    "\n",
    "word_to_id = imdb.get_word_index()\n",
    "word_to_id = {k:(v+INDEX_FROM) for k,v in word_to_id.items()}\n",
    "word_to_id[\"<PAD>\"] = 0\n",
    "word_to_id[\"<START>\"] = 1\n",
    "word_to_id[\"<UNK>\"] = 2\n",
    "\n",
    "id_to_word = {value:key for key,value in word_to_id.items()}\n",
    "print(' '.join(id_to_word[id] for id in X_train[0] ))"
   ]
  },
  {
   "cell_type": "code",
   "execution_count": null,
   "metadata": {},
   "outputs": [],
   "source": []
  },
  {
   "cell_type": "markdown",
   "metadata": {},
   "source": [
    "Reference: \n",
    "\n",
    "    1. https://machinelearningmastery.com/use-word-embedding-layers-deep-learning-keras/\n",
    "    2. https://machinelearningmastery.com/sequence-classification-lstm-recurrent-neural-networks-python-keras/\n",
    "    \n",
    "    Also look at - \n",
    "    https://paulx-cn.github.io/blog/4th_Blog/"
   ]
  },
  {
   "cell_type": "code",
   "execution_count": null,
   "metadata": {},
   "outputs": [],
   "source": []
  },
  {
   "cell_type": "code",
   "execution_count": null,
   "metadata": {},
   "outputs": [],
   "source": []
  },
  {
   "cell_type": "code",
   "execution_count": null,
   "metadata": {},
   "outputs": [],
   "source": []
  },
  {
   "cell_type": "code",
   "execution_count": null,
   "metadata": {},
   "outputs": [],
   "source": []
  },
  {
   "cell_type": "code",
   "execution_count": null,
   "metadata": {},
   "outputs": [],
   "source": []
  },
  {
   "cell_type": "code",
   "execution_count": null,
   "metadata": {},
   "outputs": [],
   "source": []
  },
  {
   "cell_type": "code",
   "execution_count": null,
   "metadata": {},
   "outputs": [],
   "source": []
  },
  {
   "cell_type": "code",
   "execution_count": null,
   "metadata": {},
   "outputs": [],
   "source": []
  },
  {
   "cell_type": "code",
   "execution_count": null,
   "metadata": {},
   "outputs": [],
   "source": []
  },
  {
   "cell_type": "code",
   "execution_count": null,
   "metadata": {},
   "outputs": [],
   "source": []
  },
  {
   "cell_type": "code",
   "execution_count": null,
   "metadata": {},
   "outputs": [],
   "source": []
  },
  {
   "cell_type": "code",
   "execution_count": 8,
   "metadata": {},
   "outputs": [
    {
     "name": "stdout",
     "output_type": "stream",
     "text": [
      "could not convert string to float: '.'\n",
      ". . . -0.1573 -0.29517 0.30453 -0.54773 0.098293 -0.1776 0.21662 0.19261 -0.21101 0.53788 -0.047755 0.40675 0.023592 -0.32814 0.046858 0.19367 0.25565 -0.021019 -0.15957 -0.1023 0.20303 -0.043333 0.11618 -0.18486 0.0011948 -0.052301 0.34587 0.052335 0.16774 -0.21384 0.055947 0.24934 -0.12179 0.16749 0.28922 -0.033739 0.3015 -0.13241 0.092635 0.37155 -0.2884 -0.0052731 -0.001005 -0.51153 -0.28476 -0.20139 0.11837 -0.0055891 0.43604 0.16796 -0.2701 0.063957 -0.093253 -0.22079 0.36501 0.06545 0.23941 -0.19292 0.098293 0.12172 -0.1168 -0.027436 0.20507 -0.39139 -0.23111 0.46239 0.22888 -0.028415 -0.1798 0.23817 0.28093 -0.47935 0.23177 -0.35587 0.14246 0.11861 0.011018 0.091986 0.0054809 -0.39955 -0.40183 -0.10629 -0.30851 0.12383 -0.16737 -0.43569 0.4211 -0.57416 -0.19964 0.51312 0.090747 -0.21657 0.043519 0.24288 0.081134 0.49104 -0.33342 -0.31056 -0.3136 0.26931 -0.14402 0.33185 -0.21662 -0.072985 0.080603 -0.7266 -0.098385 -0.36233 -0.25346 0.1154 0.25738 0.15802 -0.15633 -0.024581 0.35673 0.31153 0.33475 -0.081155 -0.3061 0.019077 -0.049047 -0.11232 -0.07417 0.35596 -0.2642 0.012781 -0.20715 0.020223 0.054534 -0.28803 0.42863 -0.10312 0.24771 0.013196 0.19768 -0.013528 -0.15134 0.20307 -0.028973 -0.022706 -0.29199 -0.082062 0.19048 0.0053574 0.14067 -0.28675 0.21343 0.42428 -0.28186 -0.11801 -0.45227 -0.0067998 0.044784 -0.0062886 0.25087 0.34481 -0.64459 -0.20467 0.35007 0.1468 -0.14007 -0.0050219 -0.24053 0.41426 -0.40902 0.21141 0.25726 -0.4883 0.027066 0.56367 -0.39594 -0.035206 0.63079 0.14343 0.038315 0.32527 -0.080335 -0.20065 -0.30848 -0.0031591 0.15296 -0.21014 0.42143 -0.20944 -0.069285 0.13555 -0.020401 -0.22555 0.33491 0.16035 0.17739 -0.023627 0.097575 -0.19395 -0.018754 -0.119 -0.0067027 -0.4178 0.29027 0.13034 -0.30212 0.61173 -0.39918 -0.020191 -0.34531 -0.092082 0.46818 0.36671 0.21021 -0.053162 -0.37872 -0.14271 -0.13604 0.31715 -0.17227 -0.091266 0.16417 0.15069 0.53556 -0.29678 0.13965 -0.29788 0.1282 0.1971 -0.045515 -0.41355 -0.050333 -0.39015 -0.29579 -0.096145 -0.03151 0.053714 -0.37309 -0.36523 -0.17235 0.39251 -0.065909 -0.25267 -0.34448 -0.11503 0.43665 0.18832 0.20631 0.27801 -0.046077 0.13397 -0.091953 -0.098542 0.15811 0.2752 0.081383 0.32077 -0.10028 0.1088 -0.24836 0.10477 0.15243 -0.071302 0.12861 0.23061 0.0074864 0.090918 -0.12269 -0.14831 0.010586 0.35745 -0.23412 -0.23746 -0.22646 -0.27641 -0.1634 0.071909 -0.093884 0.21331 -0.20627 0.44406 0.34691 0.019064 0.034657 0.36789 0.32276 -0.31099 -0.023443 -0.77048 -0.26001 0.033961 -0.13874 0.051973 -0.0090509 0.27427 0.046548 -0.48214 -0.1437 -0.1975 -0.038126 -0.16555 0.071697 0.049449 0.15386 -0.81663\n",
      "\n",
      "could not convert string to float: 'name@domain.com'\n",
      "at name@domain.com 0.0061218 0.39595 -0.22079 0.78149 0.38759 0.28888 0.18495 -0.37328 -0.60018 0.19625 0.42975 0.17942 0.06375 -0.44127 0.72035 0.50539 0.17985 -0.71305 0.11122 0.19733 0.063884 0.023288 0.017074 0.04756 -0.083167 0.14506 -0.21856 -0.07979 -0.058909 -0.79864 0.65868 -0.45031 0.41921 -0.043908 -0.059099 0.21384 -0.05214 0.31267 0.20417 -0.66489 -0.17885 -0.13729 -0.13825 -0.59669 -0.09297 0.31121 -0.027161 0.17923 0.43076 0.1012 0.32516 -0.34159 0.21662 -0.31267 -0.065984 -0.35734 -0.52104 -0.16432 -0.31183 0.33793 -0.3952 0.11288 0.10796 0.16632 -0.077719 0.48287 -0.50849 0.37261 0.27273 0.36141 -0.027295 -0.44898 0.48865 0.13509 0.0082683 0.44873 0.46155 -0.28687 0.28691 -0.16943 -0.4255 -0.13788 -0.84983 0.38833 -0.092206 0.09504 0.57431 -0.55836 0.37006 -0.23685 0.31727 -0.29539 0.40986 -0.30945 -0.4857 0.52769 -0.94486 -0.22039 0.1913 0.014544 0.37755 -0.36721 -0.07249 -0.17701 0.32814 0.2158 0.43346 0.14774 -0.59317 -0.23463 -0.064771 -0.42996 0.59558 0.62189 0.62726 -0.97772 -0.15548 -0.25757 0.57236 0.7448 0.33936 0.088019 0.12554 0.44163 0.48089 0.14379 0.44052 0.0033798 0.17334 0.62277 0.13859 -0.46311 -0.3785 -0.09034 -0.31398 0.43096 0.14501 0.10217 -0.30989 -0.20551 0.95437 0.36931 -1.0046 -0.20179 0.2239 0.093057 0.4248 -0.14321 -1.0822 0.49819 0.42587 0.48591 0.22223 0.01698 -0.082398 0.69111 0.3967 -0.50514 0.12603 0.2714 0.7082 -0.079401 -0.10775 -0.48217 0.85182 -0.0047614 0.06633 0.065622 -0.31762 0.14979 -0.48519 0.31868 0.66676 -0.53971 0.26185 -0.025039 -0.042315 0.096601 -0.80947 0.11489 0.22729 0.15132 0.48739 -0.17873 0.86134 0.20061 0.018419 -0.57752 0.31828 0.46305 0.31762 -0.43985 0.56173 0.14558 -0.23908 0.94529 0.35095 0.09231 0.38298 0.18845 0.12514 0.11943 -0.11206 0.17589 0.2973 0.31892 -0.015596 0.32167 0.066616 -0.04847 0.31435 0.12557 0.036991 0.17287 -0.055305 0.87528 0.11223 0.28194 -0.08516 0.58705 0.18693 -0.32145 0.46188 0.51299 -0.88555 -0.46913 -0.26764 -0.51375 -0.38804 -0.78149 -0.14336 -0.25571 0.12985 0.33621 -0.22846 0.48309 -0.47053 -0.23177 0.17509 0.060625 0.19792 -0.10821 -0.090677 -0.18252 0.73394 -0.17721 0.28438 0.75051 0.37784 -0.26525 0.15274 -0.4612 -0.60663 -0.042408 0.093703 -0.59664 0.097915 -0.46943 -0.18268 -0.26516 -0.14962 0.05476 -0.078979 -0.50688 0.39585 0.69243 0.039802 0.13965 0.21709 0.023105 0.19744 0.45611 0.26455 -0.17963 -0.2695 0.16681 0.27557 -0.13141 -0.12941 -0.40996 0.23409 0.40783 0.28148 -0.15247 0.17776 0.077139 0.30951 0.21843 -0.075161 0.33983 0.30904 0.1404 0.5608 -0.020466 0.29512 -0.43178 -0.31083 -0.28874 -0.12015 0.38455\n",
      "\n",
      "could not convert string to float: '.'\n",
      ". . . . . -0.23773 -0.82788 0.82326 -0.91878 0.35868 0.1309 0.26195 -0.30068 0.42963 -1.5335 0.50492 0.59069 0.17763 -0.010302 -0.63371 -0.040832 0.69336 -0.85472 0.693 -0.44824 0.25476 0.17091 0.96056 -0.26516 0.17454 -0.27371 0.20591 -0.60435 -0.50923 0.36049 0.75756 -0.79493 0.12379 0.40019 0.56716 0.19451 0.15996 -0.07882 0.9756 0.54761 -0.25123 -0.70006 -0.78286 -0.95702 0.23045 -0.3643 0.80267 -0.30315 0.35283 -0.19961 0.71134 -0.94116 -0.086543 0.17827 0.40124 -0.071006 0.82202 -0.51055 0.47492 -0.0582 -0.2687 0.94119 0.0066621 -0.53636 -0.68859 0.27149 0.33482 0.53987 -0.72912 -0.53719 0.17591 -0.52643 0.42509 0.12433 -0.17178 0.53168 0.69058 0.703 0.17845 -0.39243 -0.50617 0.39575 0.18461 -0.26065 -0.61119 0.013174 0.32934 -0.4861 -0.46474 0.69677 0.47846 -0.43841 0.051551 0.4195 -0.36847 0.57844 0.053724 -0.026579 -0.5901 0.73221 -0.53987 -0.3428 -0.12343 -0.51213 -0.59237 -0.14589 0.094055 -0.48848 -0.09944 0.092527 0.76764 -0.21207 -0.2395 0.27517 0.27508 0.29604 0.01908 -0.64152 0.51208 0.30948 -0.47126 0.86562 -0.68993 0.19003 -0.78941 -0.10668 -0.64497 0.078153 -0.29598 -0.2383 0.40626 0.066945 0.021937 -0.28291 -0.34962 0.098551 -0.068353 0.06824 -0.17466 -0.21469 1.4612 0.30606 -0.28516 0.078682 0.54627 -0.28879 0.11363 0.32769 -0.38409 -0.038104 -0.70277 -0.47623 -0.29545 0.1906 1.2011 0.38105 0.24595 -0.15847 0.051696 0.71491 0.040783 -0.24121 -0.69558 0.8648 -0.18283 -0.11746 -0.058645 0.033855 -0.32785 -0.23554 -0.12762 0.088837 1.1886 0.6515 -0.32243 0.20434 -0.28283 -0.076 -0.5461 0.66366 -0.19004 0.41687 0.16786 -0.57624 0.0021248 0.038208 0.46581 0.17952 0.15208 0.77239 0.56825 1.3564 0.36707 -0.90959 -0.20369 -0.30854 0.43101 -0.62625 0.62072 -0.48968 -0.4026 0.83121 0.27788 -0.63801 -0.90269 -0.26409 0.55212 -0.21899 0.57153 0.10422 -0.23276 0.32775 0.15975 0.52786 -0.18071 -0.66116 -0.28231 -0.95566 0.32314 -0.10176 0.49961 -0.59512 0.30664 0.17566 -0.0082404 -1.2304 -0.18822 -0.094328 -0.25801 0.07948 0.59872 -0.029741 -0.14526 -0.044699 0.23121 0.20907 -0.442 0.40599 0.16151 -0.49981 0.13384 0.35293 0.034782 0.513 -0.39248 0.39123 0.28351 0.62023 0.6796 0.83006 0.48423 0.70625 -0.25091 -0.23268 0.15136 -0.35641 -0.45169 -0.071751 0.61275 0.12885 -0.62407 0.38831 -0.38358 -0.40596 0.022178 0.44976 -0.11437 -0.43881 -0.72876 -0.76978 -0.42424 0.26061 -0.83878 0.7724 -0.050794 0.0083812 0.18012 -0.77772 -0.22227 0.79349 0.3748 -0.96256 -0.97854 -0.92611 -0.65978 0.080195 -0.25126 1.1857 -0.72262 1.0632 0.50418 0.07075 -0.25384 -0.57426 -0.19791 -0.68991 0.061501 -0.17089 0.18609 -0.78265\n",
      "\n",
      "could not convert string to float: 'name@domain.com'\n",
      "to name@domain.com 0.33865 0.12698 -0.16885 0.55476 0.48296 0.45018 0.0094233 -0.36575 -0.87561 -0.35802 0.2379 0.31284 -0.081367 0.061482 0.81921 0.77488 0.68518 -0.48005 -0.012098 0.53366 0.038321 0.26857 0.56736 0.20427 0.2847 0.68113 -0.26921 0.10099 -0.33252 -0.22999 0.66003 0.21833 -0.086523 -0.30044 -0.42253 0.47525 -0.2165 0.3268 0.63515 -0.15657 -0.25835 -0.11663 -0.41092 -0.73779 -0.0015122 0.14481 0.13287 0.26097 0.58175 0.29285 0.27168 -0.0058512 0.27731 -0.40565 0.05047 0.059203 -0.39081 -0.098029 -0.13969 0.42714 -0.20103 -0.019703 1.1957 0.36278 -0.6468 0.096856 -0.54383 0.29666 -0.0098302 0.5042 -0.3419 -0.25067 0.72375 0.81957 0.57959 -0.28619 0.91511 -0.49127 0.42129 0.11429 -0.32411 -0.092257 -1.0342 -0.25774 -0.19044 -0.34201 1.2339 -0.65392 0.83096 -0.3133 -0.10256 -0.075641 0.88435 -0.1656 0.041536 0.23504 -0.59116 -0.12573 0.48002 0.23561 -0.16167 -0.1404 -0.45722 -0.13186 0.9173 -0.78831 -0.027372 0.036396 -0.49337 -0.2556 -0.15139 -0.53403 0.90196 0.60318 0.43602 -0.075461 -0.09196 0.14248 0.14335 0.67287 0.52725 -0.21312 -0.31636 0.63391 0.33626 -0.037607 0.60729 0.46028 0.0010946 0.22783 0.38501 -0.85127 -0.76092 0.20159 -0.13641 -0.15588 0.060973 0.13442 -0.25715 0.054989 0.82028 0.32086 -0.94738 -0.55948 -0.072619 -0.31286 0.53855 -0.27876 -0.45292 1.0417 0.59105 0.10445 -0.0042194 -0.11733 0.38836 0.43267 0.43228 -0.3419 0.091655 0.47851 0.62238 0.091656 -0.11656 -0.6118 0.076486 -0.27552 -0.33407 0.30166 -0.089347 -0.4676 0.14198 0.2924 0.69944 -0.53839 0.14589 0.36273 -0.18743 -0.32278 -0.46289 -0.0079593 0.025591 0.47468 0.79237 -0.72242 0.92688 0.49471 -0.39816 -0.099986 0.15334 -0.050664 0.74726 -0.047998 0.43063 -0.1613 -0.020673 0.98916 -0.27938 0.10797 0.55202 0.37686 0.17607 -0.27058 -0.1362 -0.024761 0.63829 -0.0054866 0.12085 0.56029 0.28192 0.29992 0.23869 0.070296 0.34272 -0.11676 -0.24377 0.90668 0.1251 -0.12149 -0.057172 0.36016 0.057005 -0.33869 0.14762 0.91449 -0.20497 -0.64492 -0.47259 -0.43348 -0.47966 -0.84446 -0.35207 0.0050338 -0.33834 0.15072 -0.9816 0.13519 -0.33266 0.11602 0.032961 -0.58063 0.039186 -0.34515 -0.088268 -0.49642 0.56537 -0.13342 0.29861 0.4289 0.72562 -0.61233 -0.41913 0.19969 -0.64272 -0.62544 0.58792 -0.33489 -0.066748 -0.42025 -0.25105 -0.52392 -0.17985 -0.059297 -0.28532 -0.76441 0.41743 0.83472 0.46515 0.3741 0.35699 -0.11646 0.10322 -0.16215 -0.30452 -0.0082364 -0.49549 0.47146 -0.054368 -0.18286 0.083092 -0.2659 0.449 0.3066 0.19909 0.21744 0.77927 -0.09052 -0.28405 0.02556 -0.27124 -0.26324 0.45414 0.19379 -0.21259 -0.38467 0.18494 -0.26692 -0.18104 0.051336 -0.25989 -0.15024\n",
      "\n"
     ]
    },
    {
     "name": "stdout",
     "output_type": "stream",
     "text": [
      "could not convert string to float: '.'\n",
      ". . 0.035974 -0.024421 0.71402 -0.61127 0.012771 -0.11201 0.16847 -0.14069 -0.053491 -0.87539 -0.13959 0.29731 0.072308 -0.084514 -0.1879 0.12358 0.37639 -0.39238 -0.01111 -0.04924 0.63649 0.058814 0.19076 -0.20828 -0.11036 0.14934 0.24667 -0.39438 0.22853 -0.11201 0.33539 -0.32929 -0.049727 -0.090764 0.29095 0.27504 0.22802 -0.15616 0.37302 0.3752 -0.3677 0.1518 -0.27551 -0.63281 -0.31298 -0.22441 -0.15435 -0.64802 0.28404 0.12356 0.0034255 0.03094 0.35345 -0.46781 0.59203 -0.17966 0.27702 -0.46738 0.19438 0.21939 -0.36743 -0.084781 0.03253 -0.51323 -0.55466 0.49585 0.066985 0.47906 -0.25118 0.011123 0.15605 -1.0761 0.60875 -0.15764 0.066122 0.12779 -0.089209 0.4311 0.045732 -0.29364 -0.19994 -0.065952 0.26236 0.34039 -0.4956 -0.41187 0.055566 -0.69902 -0.057696 0.76519 0.2018 -0.34497 -0.22707 0.34316 -0.16098 0.42469 0.0080257 -0.33017 -0.43485 0.23581 -0.71085 0.27985 -0.31261 -0.012817 0.48305 -0.75151 -0.02347 -0.39653 -0.86857 0.2877 0.26678 0.22291 -0.1736 -0.12782 0.35032 0.27365 0.28287 0.093409 -0.18104 -0.088499 0.1189 0.026563 -0.027942 0.17254 -0.032427 -0.10745 -0.30334 -0.096047 -0.45369 -0.12113 0.06388 -0.31841 0.0059388 0.17693 -0.21071 -0.6171 0.0018674 0.27296 0.18762 -0.060409 0.5949 0.13994 -0.25773 0.20023 0.4918 0.010659 0.046456 0.4339 -0.10386 0.021517 -0.42845 -0.25458 -0.1307 0.28307 -0.27127 0.080445 -0.31285 -0.12807 0.71382 -0.086474 -0.35553 0.65281 -0.33706 0.38617 -0.12551 0.0056478 0.10091 -0.3638 -0.033486 0.32146 -0.28719 -0.24936 0.65761 0.24376 -0.068703 0.35459 0.080304 -0.30996 -0.20199 0.31482 0.15092 -0.25125 0.76149 -0.33679 -0.079472 -0.04 -0.024693 -0.55248 0.38834 0.14696 0.50003 -0.1377 0.20994 -0.53022 -0.23712 0.24392 0.29524 -0.20951 0.11347 0.16736 -0.057263 0.20945 -0.49785 0.22321 -0.24234 -0.076378 0.42953 0.71138 0.12599 -0.1331 -0.13823 -0.22315 -0.17269 0.43008 -0.34042 -0.23127 0.66599 0.15312 0.47323 -0.28108 0.097872 -0.33014 -0.068678 0.57197 0.099838 -0.6237 -0.22572 -0.59751 -0.30157 -0.1239 0.0057373 -0.058747 -0.030736 -0.10812 0.17601 0.26234 0.15636 -0.19436 -0.097775 0.15462 -0.083865 -0.15106 0.27862 0.28175 -0.27084 0.029867 0.082898 0.020298 0.35015 -0.027691 -0.010642 0.21173 0.090988 0.59747 0.12784 -0.31951 0.26881 -0.41771 -0.2073 -0.077332 -0.32069 -0.020763 -0.24735 -0.23254 -0.005691 -0.088722 -0.13886 -0.16886 -0.13215 -0.17242 -0.1223 -0.24484 0.1374 0.24458 -0.1688 0.64932 0.051973 -0.30896 0.1567 0.351 0.081668 -0.60955 -0.54647 -0.61302 -0.48092 0.22664 -0.27639 0.12523 -0.1358 0.3322 0.54997 -0.068345 0.07199 -0.11543 0.19326 -0.085861 -0.1098 0.034066 -0.072258 -0.58648\n",
      "\n",
      "could not convert string to float: '.'\n",
      ". . . . 0.033459 -0.085658 0.27155 -0.56132 0.60419 -0.027276 -0.093992 0.068236 -0.3961 -0.83028 0.17456 0.46373 0.13719 0.25598 -0.33885 0.18365 0.44451 -0.8193 -0.081032 -0.070653 0.11253 -0.0087314 0.45494 -0.13481 -0.19651 -0.0098954 0.34683 -0.010663 -0.10555 -0.027425 0.46831 -0.29624 0.0027633 -0.18621 0.32282 0.20276 0.5976 -0.15331 0.52121 0.59813 -0.28581 -0.23798 -0.078883 -0.64561 0.03057 0.28304 0.15654 -0.18034 0.48116 0.39754 0.2106 -0.039421 -0.31166 0.38636 0.64125 -0.52607 0.064417 -0.23567 0.37243 -0.089502 -0.39855 -0.12211 0.37331 -0.45538 -0.40342 0.65258 0.14624 0.3247 -0.41644 0.15981 0.092788 -0.47863 0.64507 -0.013909 0.21356 0.39679 0.52347 0.16871 -0.017134 -0.57287 -0.47366 0.30996 -0.32248 -0.11949 -0.48315 -0.20478 0.45759 -1.0443 -0.58684 0.58544 -0.081284 -0.21224 -0.25302 0.90371 -0.20399 0.65895 -0.11742 -0.13352 -0.091149 0.11375 -0.18618 0.098569 -0.2067 -0.22156 -0.1557 -0.7965 -0.23144 -0.31047 -0.46223 0.26712 0.31644 -0.066401 -0.40895 0.11665 0.50156 0.47769 -0.075403 -0.482 0.033416 0.17506 -0.063225 0.19088 0.039387 0.2396 -0.35331 -0.09274 -0.33705 0.085312 0.080227 -0.020173 0.507 -0.072361 0.13175 -0.45573 0.20334 -0.056897 -0.11733 0.047485 0.016908 -0.24814 0.71598 -0.055958 0.37822 0.3392 0.17434 -0.37932 0.03775 0.019235 -0.29447 -0.18964 -0.45798 -0.16 -0.056206 0.042038 0.64842 0.47592 -0.67641 -0.57816 0.769 -0.096332 -0.064562 0.042617 -0.23167 0.51994 0.10079 0.15415 -0.14515 -0.21889 0.23307 -0.043176 -0.41485 0.1427 0.84153 -0.078821 0.060877 0.12004 -0.26696 -0.53933 -0.36731 -0.37563 -0.35086 -0.24055 0.49705 -0.34699 0.021831 0.53459 0.2906 -0.065185 -0.19822 0.33217 0.28218 0.34624 0.36723 -0.66741 0.082508 -0.10312 0.27671 -0.55848 0.67853 0.040049 -0.0057962 0.86106 -0.40337 -0.45425 -0.48904 -0.11567 0.71084 -0.00071633 -0.075139 0.29584 -0.38594 0.17853 0.033168 0.19186 -0.10717 -0.51614 0.19278 -0.43339 0.51961 0.10363 0.28009 -0.41613 0.34869 0.052315 -0.026509 -0.64101 -0.047879 -0.42739 -0.018592 0.18577 -0.16994 -0.18489 -0.076386 -0.28981 0.26335 0.21274 0.11926 -0.32697 0.22216 -0.24976 0.36953 0.24742 0.37245 0.37218 -0.18512 -0.23093 0.035941 0.2418 0.058993 0.16378 0.43893 0.19057 -0.15457 0.17481 -0.30859 -0.1335 0.21542 -0.44562 0.48477 0.28185 -0.063253 0.053603 -0.05103 -0.29387 0.17704 0.64601 -0.11012 -0.23288 -0.60988 -0.33054 -0.25336 -0.042175 -0.43281 -0.061033 -0.097728 0.42459 0.051169 -0.37042 0.053402 0.18471 0.37567 -0.66422 -0.2099 -0.92126 -0.098194 0.034713 0.19768 0.35687 -0.03349 0.72838 0.1016 -0.42271 -0.19997 -0.21866 -0.2066 -0.59319 -0.052248 -0.032041 0.068443 -0.92476\n",
      "\n",
      "could not convert string to float: 'name@domain.com'\n",
      "email name@domain.com 0.33529 0.32949 0.2646 0.64219 0.70701 -0.074487 -0.066128 -0.30804 -0.71712 -0.65856 0.21812 0.20661 0.079468 -0.37277 0.69841 0.40459 0.10838 -0.84972 0.084111 -0.099199 -0.15883 -0.15245 0.10664 0.2866 0.058125 0.10893 -0.042369 -0.10781 -0.10683 -0.61831 0.71169 -0.4143 0.46387 0.11437 0.11797 0.78043 0.15162 0.050014 0.27046 -0.15689 -0.35901 -0.22091 0.2174 -0.53654 -0.26149 0.071581 0.28225 0.61944 0.56737 0.054449 0.63952 -0.25328 0.34196 -0.39231 0.14372 -0.3836 -0.43978 -0.13577 -0.38214 0.58241 -0.49185 0.020045 0.025588 0.13079 -0.43368 0.39428 -0.48619 0.53205 0.231 0.026263 0.20574 -0.5681 0.23058 -0.20142 0.23862 0.34402 0.53577 -0.36288 0.24647 -0.15684 -0.49296 0.063751 -0.35141 -0.10532 0.0045396 -0.047133 0.9011 -0.60606 0.073045 -0.4576 0.052548 -0.4998 0.55807 -0.21151 -0.60018 1.0234 -0.80815 0.15263 0.47984 0.09278 0.35607 -0.28802 -0.14008 -0.12359 0.48392 -0.54092 0.26861 0.18011 -0.5053 0.35732 0.027227 -0.63815 0.65042 0.60165 0.71557 -0.58427 0.0075552 0.071666 0.31442 0.5006 0.14557 0.057359 0.23515 0.09242 0.40623 0.12675 0.40275 0.11623 0.13235 0.048337 0.40902 -0.46324 -0.36735 0.10782 -0.1503 0.20129 0.1842 -0.20326 0.025293 -0.60814 0.94863 0.19966 -1.0322 -0.33815 0.42628 -0.18858 0.70273 -0.10762 -0.57743 0.14396 0.57879 0.55755 -0.10448 -0.08187 -0.0042659 0.41304 0.61282 -0.27785 0.19742 0.62788 0.44321 -0.0018459 0.076699 -0.37352 0.64692 -0.21255 0.12151 0.14871 -0.35841 -0.14698 -0.49289 0.36204 0.66804 -0.49378 0.21669 0.021931 -0.33109 -0.00088334 -0.48386 0.64701 0.10726 0.26803 0.54351 -0.19216 0.82757 0.092724 0.20233 -0.057761 0.14353 0.35351 0.053238 -0.34339 0.50812 0.027739 -0.17723 0.91226 0.24673 -0.16193 0.48266 0.17719 0.37488 -0.13047 -0.071644 -0.050737 0.36963 0.54698 -0.027903 0.010671 0.059521 0.37979 -0.0033416 0.43249 0.092561 -0.10606 0.13377 0.72729 -0.0078999 0.30048 0.12956 0.82322 0.71878 -0.6804 0.24552 0.49127 -0.62899 -0.757 -0.20259 -0.43667 -0.38061 -0.97217 -0.059481 -0.1246 0.23146 0.11842 -0.32492 0.41028 -0.43662 -0.16969 0.29064 0.053265 0.012703 -0.050542 -0.15929 -0.14017 0.46322 -0.25027 0.26577 0.65584 0.32285 -0.3679 0.1908 -0.30116 -0.61803 -0.17922 0.21711 -0.26571 -0.26099 -0.44266 -0.1252 -0.43041 -0.011423 0.30861 0.11921 -0.24908 0.58099 0.73546 -0.06392 0.18363 0.2339 0.042055 0.040574 0.47928 0.25323 0.019253 -0.2219 0.36961 0.021001 -0.0050943 -0.18382 -0.7743 0.24078 0.31495 0.35245 -0.4387 0.21064 0.41219 0.48009 0.074987 -0.11304 0.37291 0.43416 0.15984 0.30369 -0.45189 0.040446 -0.33307 -0.41444 -0.13447 0.09813 0.30967\n",
      "\n",
      "could not convert string to float: 'name@domain.com'\n",
      "or name@domain.com 0.48374 0.49669 -0.25089 0.90389 0.60307 0.11141 -0.021157 0.10037 -0.15173 -1.0246 0.27841 -0.062042 -0.061043 -0.47401 0.60886 0.29636 -0.077564 -0.81931 -0.023403 0.30916 0.029043 -0.34372 -0.20211 0.17291 -0.49248 0.19652 0.30329 -0.023517 0.062654 -0.56825 0.20126 -0.66776 0.064812 -0.024986 -0.081007 0.38214 -0.0035715 0.40572 0.090373 -0.023844 -0.14541 0.049812 0.054826 -0.53691 -0.14741 -0.097398 0.028146 -0.011163 0.71235 0.36371 0.66517 -0.043227 0.34479 -0.4558 -0.012266 -0.4921 -0.98134 -0.063421 -0.11077 0.46109 -0.82556 -0.25896 0.48532 0.31552 -0.57685 0.63555 -0.40461 0.41238 0.0662 0.17397 -0.1019 -0.65447 0.20334 0.053966 -0.15827 0.27588 0.43867 -0.081736 0.47221 -0.45256 -0.43325 0.14461 -0.14118 0.20053 -0.3692 0.018312 0.8577 -0.61049 -0.15427 -0.4262 0.34196 -0.36692 0.51229 -0.14486 -0.73069 1.002 -1.0086 -0.18131 0.10296 0.10914 0.34994 -0.094706 -0.22878 -0.24424 0.43829 0.063811 0.22713 -0.023387 -0.38057 0.20119 -0.027965 0.027987 0.33908 0.63356 0.64577 -0.73545 -0.064695 -0.072888 0.49183 0.26422 0.2987 0.17597 0.22247 0.082598 0.13588 0.15017 0.25407 0.27976 0.49918 0.4207 0.2508 -0.31198 -0.2434 0.079441 -0.32652 0.34065 0.090272 0.074694 0.030794 -0.69689 1.2249 0.24339 -1.0911 0.17123 0.12347 -0.22785 0.36976 -0.55589 -0.87727 0.33553 0.18196 0.3075 0.054316 -0.14845 -0.30466 0.33621 0.6362 -0.38048 0.15098 0.2354 0.81349 -0.30932 -0.13298 0.11503 0.82272 0.35549 0.059715 0.23187 -0.15168 0.17065 -0.15352 0.43389 0.64511 -0.033239 0.26057 -0.081056 -0.43354 -0.067527 -0.27017 0.3825 0.078534 0.19403 0.92968 0.061512 0.84848 0.29075 0.48908 0.043084 0.19724 0.81964 0.11703 -0.029999 0.85199 0.076113 -0.56209 0.86088 0.50691 0.10746 0.45046 -0.0016683 0.51397 0.14412 -0.45557 0.093795 -0.023058 0.20497 -0.23176 0.19408 0.096653 0.52317 -0.1884 0.04104 0.046953 -0.11417 0.035494 0.5119 0.23042 0.19461 0.36794 0.63884 0.52288 -0.33988 0.60725 0.35293 -0.73891 -0.3898 -0.23657 -0.5773 -0.24254 -0.98802 0.27399 -0.26853 0.23769 0.21178 -0.08188 0.29739 -0.50025 -0.26005 0.43288 -0.22978 0.20331 -0.36308 -0.022572 0.042341 0.43218 -0.016921 0.13097 1.0983 0.29603 -0.29021 0.020473 -0.31833 -0.58473 -0.098 0.049079 -0.52673 0.20277 -0.38167 -0.42331 -0.33024 -0.6353 0.11201 -0.0072223 -0.098756 0.084024 0.38257 -0.17998 -0.10995 -0.17451 0.57884 0.051173 0.33876 0.17066 -0.0044339 -0.48094 0.45427 0.21647 -0.33465 -0.30874 -0.84948 0.23015 0.26173 0.48439 -0.37949 0.16163 0.42102 -0.20904 -0.028854 -0.25135 0.6825 0.50248 -0.045756 0.41991 -0.22363 0.43526 -0.27397 -0.17557 -0.21913 -0.10409 0.64972\n",
      "\n"
     ]
    },
    {
     "ename": "KeyboardInterrupt",
     "evalue": "",
     "output_type": "error",
     "traceback": [
      "\u001b[0;31m---------------------------------------------------------------------------\u001b[0m",
      "\u001b[0;31mKeyboardInterrupt\u001b[0m                         Traceback (most recent call last)",
      "\u001b[0;32m<ipython-input-8-c95896197583>\u001b[0m in \u001b[0;36m<module>\u001b[0;34m()\u001b[0m\n\u001b[1;32m      3\u001b[0m \u001b[0mf\u001b[0m \u001b[0;34m=\u001b[0m \u001b[0mopen\u001b[0m\u001b[0;34m(\u001b[0m\u001b[0;34m'../LSTM_with_TF_Keras/glove.840B.300d.txt'\u001b[0m\u001b[0;34m)\u001b[0m\u001b[0;34m\u001b[0m\u001b[0m\n\u001b[1;32m      4\u001b[0m \u001b[0;32mfor\u001b[0m \u001b[0mline\u001b[0m \u001b[0;32min\u001b[0m \u001b[0mf\u001b[0m\u001b[0;34m:\u001b[0m\u001b[0;34m\u001b[0m\u001b[0m\n\u001b[0;32m----> 5\u001b[0;31m     \u001b[0mvalues\u001b[0m \u001b[0;34m=\u001b[0m \u001b[0mline\u001b[0m\u001b[0;34m.\u001b[0m\u001b[0msplit\u001b[0m\u001b[0;34m(\u001b[0m\u001b[0;34m)\u001b[0m\u001b[0;34m\u001b[0m\u001b[0m\n\u001b[0m\u001b[1;32m      6\u001b[0m     \u001b[0mword\u001b[0m \u001b[0;34m=\u001b[0m \u001b[0mvalues\u001b[0m\u001b[0;34m[\u001b[0m\u001b[0;36m0\u001b[0m\u001b[0;34m]\u001b[0m\u001b[0;34m\u001b[0m\u001b[0m\n\u001b[1;32m      7\u001b[0m     \u001b[0;32mtry\u001b[0m\u001b[0;34m:\u001b[0m\u001b[0;34m\u001b[0m\u001b[0m\n",
      "\u001b[0;31mKeyboardInterrupt\u001b[0m: "
     ]
    }
   ],
   "source": [
    "# load the whole embedding into memory\n",
    "embeddings_index = dict()\n",
    "f = open('../LSTM_with_TF_Keras/glove.840B.300d.txt')\n",
    "for line in f:\n",
    "    values = line.split()\n",
    "    word = values[0]\n",
    "    try:\n",
    "        coefs = asarray(values[1:], dtype='float32')\n",
    "        embeddings_index[word] = coefs\n",
    "    except Exception as e:\n",
    "        print(e)\n",
    "        print(line)\n",
    "f.close()\n",
    "print('Loaded %s word vectors.' % len(embeddings_index))"
   ]
  },
  {
   "cell_type": "code",
   "execution_count": null,
   "metadata": {},
   "outputs": [],
   "source": []
  },
  {
   "cell_type": "code",
   "execution_count": null,
   "metadata": {},
   "outputs": [],
   "source": []
  },
  {
   "cell_type": "code",
   "execution_count": null,
   "metadata": {},
   "outputs": [],
   "source": []
  },
  {
   "cell_type": "code",
   "execution_count": null,
   "metadata": {},
   "outputs": [],
   "source": []
  },
  {
   "cell_type": "code",
   "execution_count": null,
   "metadata": {},
   "outputs": [],
   "source": []
  },
  {
   "cell_type": "code",
   "execution_count": null,
   "metadata": {},
   "outputs": [],
   "source": []
  }
 ],
 "metadata": {
  "kernelspec": {
   "display_name": "Python 3",
   "language": "python",
   "name": "python3"
  },
  "language_info": {
   "codemirror_mode": {
    "name": "ipython",
    "version": 3
   },
   "file_extension": ".py",
   "mimetype": "text/x-python",
   "name": "python",
   "nbconvert_exporter": "python",
   "pygments_lexer": "ipython3",
   "version": "3.6.5"
  }
 },
 "nbformat": 4,
 "nbformat_minor": 2
}
